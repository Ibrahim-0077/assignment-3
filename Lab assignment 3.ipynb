{
 "cells": [
  {
   "cell_type": "markdown",
   "id": "2a6ec505-90b5-41f8-8201-b03f140efd67",
   "metadata": {},
   "source": [
    "# Programming lab assignment: 3\n",
    "# Name  : Muhammad Ibrahim\n",
    "# Reg No:FA25-BBD-037\n"
   ]
  },
  {
   "cell_type": "markdown",
   "id": "f0ba8743-7b63-4430-9f6c-d9d33306f812",
   "metadata": {},
   "source": [
    "## Question: 1"
   ]
  },
  {
   "cell_type": "code",
   "execution_count": 1,
   "id": "add03caa-dffa-4ee5-939a-c954fbcb2dc5",
   "metadata": {},
   "outputs": [
    {
     "name": "stdout",
     "output_type": "stream",
     "text": [
      "A dog would make a great pet.\n",
      "A cat would make a great pet.\n",
      "A rabbit would make a great pet.\n",
      "Any of these animals would make a great pet!\n",
      "\n"
     ]
    }
   ],
   "source": [
    "\n",
    "\n",
    "ani_lst = [\"dog\", \"cat\", \"rabbit\"]\n",
    "\n",
    "for animal in ani_lst:\n",
    "    print(f\"A {animal} would make a great pet.\")\n",
    "\n",
    "print(\"Any of these animals would make a great pet!\\n\")\n"
   ]
  },
  {
   "cell_type": "markdown",
   "id": "cdce064f-c9a8-48e8-8657-19670f672a63",
   "metadata": {},
   "source": [
    "## Question: 2"
   ]
  },
  {
   "cell_type": "code",
   "execution_count": 2,
   "id": "e42eec99-e142-48ca-b876-13da79f3cba6",
   "metadata": {},
   "outputs": [
    {
     "name": "stdout",
     "output_type": "stream",
     "text": [
      "Multiples of 3 from 3 to 30:\n",
      "3\n",
      "6\n",
      "9\n",
      "12\n",
      "15\n",
      "18\n",
      "21\n",
      "24\n",
      "27\n",
      "30\n",
      "\n",
      "First 10 cubes are:\n",
      "[1, 8, 27, 64, 125, 216, 343, 512, 729, 1000]\n"
     ]
    }
   ],
   "source": [
    "multiples_of_3 = list(range(3, 31, 3))\n",
    "print(\"Multiples of 3 from 3 to 30:\")\n",
    "for num in multiples_of_3:\n",
    "    print(num)\n",
    "\n",
    "cubes = [x**3 for x in range(1, 11)]\n",
    "print(\"\\nFirst 10 cubes are:\")\n",
    "print(cubes)\n"
   ]
  },
  {
   "cell_type": "markdown",
   "id": "907e0f1a-2cf2-404a-99c1-07e9d63a7bc3",
   "metadata": {},
   "source": [
    "## Question: 3"
   ]
  },
  {
   "cell_type": "code",
   "execution_count": 5,
   "id": "f0e5080f-d713-45e6-ac59-ae7dc8f8dca2",
   "metadata": {},
   "outputs": [
    {
     "name": "stdout",
     "output_type": "stream",
     "text": [
      "Original Menu:\n",
      "pizza\n",
      "burger\n",
      "pasta\n",
      "salad\n",
      "soup\n",
      "\n",
      "Revised Menu:\n",
      "sandwich\n",
      "steak\n",
      "pasta\n",
      "salad\n",
      "dessert\n"
     ]
    }
   ],
   "source": [
    "foods = (\"pizza\", \"burger\", \"pasta\", \"salad\", \"soup\")\n",
    "print(\"Original Menu:\")\n",
    "for food in foods:\n",
    "    print(food)\n",
    "    \n",
    "# Trying to modify a tuple (will cause an error)\n",
    "\n",
    "\n",
    "foods_new = (\"sandwich\", \"steak\", \"pasta\", \"salad\", \"dessert\")\n",
    "print(\"\\nRevised Menu:\")\n",
    "for food in foods_new:\n",
    "    print(food)\n"
   ]
  },
  {
   "cell_type": "markdown",
   "id": "edd31efd-f32d-41f2-a782-18369700c09b",
   "metadata": {},
   "source": [
    "## Question 4"
   ]
  },
  {
   "cell_type": "code",
   "execution_count": 6,
   "id": "363e4727-c527-4afe-b3e7-7b203614ed29",
   "metadata": {},
   "outputs": [
    {
     "name": "stdout",
     "output_type": "stream",
     "text": [
      "Hello admin, would you like to see a status report?\n",
      "Hello Ahmad, thank you for logging in again.\n",
      "Hello Fatima, thank you for logging in again.\n",
      "Hello Ali, thank you for logging in again.\n",
      "Hello Evelyn, thank you for logging in again.\n"
     ]
    }
   ],
   "source": [
    "\n",
    "\n",
    "usernames = [\"admin\", \"ahmad\", \"fatima\", \"ali\", \"evelyn\"]\n",
    "\n",
    "for user in usernames:\n",
    "    if user == \"admin\":\n",
    "        print(\"Hello admin, would you like to see a status report?\")\n",
    "    else:\n",
    "        print(f\"Hello {user.title()}, thank you for logging in again.\")\n"
   ]
  },
  {
   "cell_type": "markdown",
   "id": "cf98d67f-7fd7-4e7c-9442-1026a9c17694",
   "metadata": {},
   "source": [
    "## Question 5"
   ]
  },
  {
   "cell_type": "code",
   "execution_count": 8,
   "id": "584b247e-a78f-48e4-a4b0-0f8dac5f9b1f",
   "metadata": {},
   "outputs": [
    {
     "name": "stdout",
     "output_type": "stream",
     "text": [
      "ALI has already been used. You need to create a new one.\n",
      "usman is available.\n",
      "zain is available.\n",
      "evelyn has already been used. You need to create a new one.\n",
      "Bilal is available.\n"
     ]
    }
   ],
   "source": [
    "\n",
    "current_users = [\"ali\", \"Fatima\", \"ahmad\", \"Evelyn\", \"Amna\"]\n",
    "new_users = [\"ALI\", \"usman\", \"zain\", \"evelyn\", \"Bilal\"]\n",
    "\n",
    "for new_user in new_users:\n",
    "    if new_user.lower() in current_users or new_user.title() in current_users or new_user.upper() in current_users:\n",
    "        print(f\"{new_user} has already been used. You need to create a new one.\")\n",
    "    else:\n",
    "        print(f\"{new_user} is available.\")\n"
   ]
  },
  {
   "cell_type": "code",
   "execution_count": null,
   "id": "7b09038e-7254-4252-b44c-fa63c55a3f73",
   "metadata": {},
   "outputs": [],
   "source": []
  }
 ],
 "metadata": {
  "kernelspec": {
   "display_name": "Python [conda env:base] *",
   "language": "python",
   "name": "conda-base-py"
  },
  "language_info": {
   "codemirror_mode": {
    "name": "ipython",
    "version": 3
   },
   "file_extension": ".py",
   "mimetype": "text/x-python",
   "name": "python",
   "nbconvert_exporter": "python",
   "pygments_lexer": "ipython3",
   "version": "3.13.5"
  }
 },
 "nbformat": 4,
 "nbformat_minor": 5
}
